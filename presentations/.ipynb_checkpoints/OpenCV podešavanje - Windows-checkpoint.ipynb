{
 "cells": [
  {
   "cell_type": "markdown",
   "metadata": {},
   "source": [
    "# Instalacija i podešavanje OpenCV paketa\n",
    "\n",
    "OpenCV predstavlja višeplatformski skup alata i funkcija za obradu slike i Computer Vision algoritme i postupke. Ovaj tutorijal namenjen je podešavanju OpenCV biblioteke na **Windows** platformi. Date su verzije softvera sa kojima je uspešno podešeno okruženje za otvaranje video datoteka."
   ]
  },
  {
   "cell_type": "markdown",
   "metadata": {},
   "source": [
    "## Preduslovi za instalaciju\n",
    "\n",
    "* **OpenCV** (3.1.0) https://sourceforge.net/projects/opencvlibrary/files/opencv-win/3.1.0/opencv-3.1.0.exe/download\n",
    "* **FFmpeg** (3.2, sa odgovarajućom arhitekturom, statički) https://ffmpeg.zeranoe.com/builds/\n",
    "* **Anaconda** izvršena instalacija, postavljeno radno okruženje. Testiranje se vrši u okruženju Spyder koje dolazi uz Anacondu\n",
    "* **Python 2.7** podešavanje je vršeno sa Python 2.7, što ne isključuje mogućnost da će korektno da se izvrši i na verziji 3.5\n",
    "* **Microsoft Visual C++ kompajler** uz svaku verziju Windowsa postoji skup instaliranih kompajlera\n"
   ]
  },
  {
   "cell_type": "markdown",
   "metadata": {},
   "source": [
    "### OpenCV\n",
    "\n",
    "Preuzeti instalaciju sa ranije postavljenog linka. Sama instalacija predstavlja raspakivanje foldera na zadatu putanju. Radi jednostavnosti i lakog održavanja, preporučljivo je staviti kao *instalacionu putanju*, odnosno putanju za raspakivanje direktno sistemsku particiju (najčešće *C:\\*), tako da je konačna putanja u koju je raspakovan sadržaj: **C:\\opencv**.\n",
    "\n",
    "OpenCV samostalno pruža velike mogućnosti obrade slike i videa, međutim, u distribucijama koje su već kompajlirane i *bildovane* veoma često izostaje podrška za učitavanje i upotrebu videa (da bi se ostvarila što šira kompatabilnost sa raznim platformama, konfiguracijama i zakonskim aktima). Iz prethodno navedenog razloga potrebno je podesiti dodatni softver kako bi se omogućilo učitavanje i snimanje videa u Python okruženju uz oslonac na OpenCV funkcije."
   ]
  },
  {
   "cell_type": "markdown",
   "metadata": {},
   "source": [
    "### FFmpeg\n",
    "\n",
    "FFmpeg je višeplatformsko rešenje za upotrebu i upravljanje audio i video zapisima. Uz pomoć ovog programa omogućavamo upotrebu video fajlova iz OpenCV biblioteke. Nakon što je fajl sa linka preuzet, raspakovati arhivu. Preporuka je slična kao i za OpenCV, raspakovati arhivu tako da se njen sadržaj nalazi u direktorijumu **C:\\ffmpeg**.\n"
   ]
  },
  {
   "cell_type": "markdown",
   "metadata": {},
   "source": [
    "### Anaconda \n",
    "\n",
    "Kako bi rešenje funkcionisalo, potrebno je povezati OpenCV sa Anaconda okruženjem. Potrebno je iz foldera gde je raspakovan OpenCV (**C:\\opencv\\build\\python\\2.7**) izabrati folder sa odgovarajućom arhitekturom i instaliranim sistemom i iz njega prekopirati *cv2.pyd* datoteku u **site-packages** folder koji se nalazi u Anaconda instalacionom folderu (najčešće: **C:\\Users\\-username-\\Anaconda2\\Lib\\site-packages**).\n",
    "\n",
    "#### Ovim se završava postupak povezivanja OpenCV biblioteke sa Anacondom. Kako bi funkcionisalo učitavanje videa kao i sama biblioteka, potrebno ih je podesiti tako da ih sistem prepoznaje. "
   ]
  },
  {
   "cell_type": "markdown",
   "metadata": {},
   "source": [
    "### Microsoft Visual C++ kompajler\n",
    "\n",
    "Kako biste pravilno izvršili dalja podešavanja, potrebno je utvrditi verziju *VC* kompajlera. \n",
    "\n",
    "Ovaj postupak moguće je izvršiti na nekoliko načina. Jedan od načina je navigacija na spisak instaliranih aplikacija (*Add or remove programs* ili ekvivalentni u zavisnosti od sistema), i pronađete Microsoft Visual C++. Pored same verzije (godina), piše i odgovarajuća šifra:\n",
    "\n",
    "* 2015 - 14.0\n",
    "* 2013 - 12.0\n",
    "\n",
    "Drugi način određivanja verzije jeste ukoliko postoji instaliran Visual Studio. U zavisnosti od verzije Visual Studija instaliran je i odgovarajući *VC* kompajler, na sličan način kao što je navedeno možete utvrditi verziju, odnosno uz oslonac na odgovarajuću verziju Visual Studija:\n",
    "\n",
    "* Visual Studio 2015 - 14.0\n",
    "* Visual Studio 2013 - 12.0\n",
    "\n",
    "U ovom trenuku treba da imate informaciju koja je oznaka najsvežijeg *VC* kompajlera."
   ]
  },
  {
   "cell_type": "markdown",
   "metadata": {},
   "source": [
    "### Podešavanje sistemskih putanja\n",
    "\n",
    "Neophodno je izmeniti, odnosno dodati putanje do izvršnih datoteka u sistemskoj putanji (**PATH**). Kako bi se kroz grafički interfejs izmenila putanja, potrebno je otvoriti *System Properties*, pa na kartici *Advanced* u donjem regionu izabrati *Environment Variables*. U otvorenom prozoru moguće je i u gornjem i u donjem segmentu pronaći red sa oznakom *PATH*. Potrebno je načiniti odgovarajuće izmene, uz pomoć dodavanja novih redova. \n",
    "\n",
    "#### Povezivanje OpenCV biblioteke\n",
    "Dodati u PATH: C:\\opencv\\build\\-arhitektura-\\-oznaka kompajlera-\\bin\n",
    "\n",
    "Gde je arhitektura x86 ili x64, odnosno oznaka kompajlera koju ste utvrdili u prethodnom koraku (a da je prisutna na zadatoj putanji).\n",
    "\n",
    "#### Povezivanje FFmpeg biblioteke\n",
    "Dodati u PATH: C:\\ffmpeg\\bin\n",
    "\n",
    "**NAPOMENA: voditi računa da su promenljive zaista dodate u PATH**\n",
    "\n",
    "### Koristiti Spyder razvojno okruženje za testiranje, odnosno okruženje koje je konfigurisano za Python koji je podešen u Anaconda okruženju\n",
    "\n",
    "#### Nakon ovog koraka potrebno je restartovati računar, a zatim isprobati učitavanje videa uz pomoć OpenCV poziva funkcija VideoCapture. Voditi računa da je putanja dobro navedena, pa iz tog razloga koristiti video koji se nalazi na direktnoj putanji (kada se navodi samo naziv). Isprobati da li je video otvoren pozivom funkcije isOpened, nad objektom koji predstavlja video. "
   ]
  },
  {
   "cell_type": "markdown",
   "metadata": {},
   "source": [
    "### Mogući problem i njegovo rešenje\n",
    "\n",
    "* Potrebno je da se u PATH promenljivi nalazi i putanja do direktorijuma gde je Anaconda instalirana (u tom direktorijumu se nalazi Python koji se upotrebljava). \n",
    "\n",
    "#### Ako i dalje postoji problem:\n",
    "* Ukoliko imate ranije instaliranu Python verziju, obezbediti da se primarno pokreće onaj iz Anaconda okruženja. To možete učiniti tako što ćete prilikom promene PATH spiska na ranije mesto staviti putanju do odgovarajućeg Anaconda direktorijuma, a tek naposletku ostale (ukoliko postoje).\n"
   ]
  },
  {
   "cell_type": "markdown",
   "metadata": {},
   "source": [
    "## Nakon svih izmena i nakon što ste potvrdili da je PATH pravilno izmenjen, restartovati računar i pokušati upotrebu video fajlova. Obavezno proverite da li je putanja do video fajla korektna!"
   ]
  },
  {
   "cell_type": "code",
   "execution_count": null,
   "metadata": {
    "collapsed": true
   },
   "outputs": [],
   "source": []
  }
 ],
 "metadata": {
  "anaconda-cloud": {},
  "kernelspec": {
   "display_name": "Python [conda root]",
   "language": "python",
   "name": "conda-root-py"
  },
  "language_info": {
   "codemirror_mode": {
    "name": "ipython",
    "version": 2
   },
   "file_extension": ".py",
   "mimetype": "text/x-python",
   "name": "python",
   "nbconvert_exporter": "python",
   "pygments_lexer": "ipython2",
   "version": "2.7.12"
  }
 },
 "nbformat": 4,
 "nbformat_minor": 1
}
